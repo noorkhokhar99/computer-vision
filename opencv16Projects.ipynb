{
 "cells": [
  {
   "cell_type": "markdown",
   "metadata": {},
   "source": [
    "Introduction\n",
    "\n",
    "Computer vision is among the hottest fields in any industry right now. It is thriving thanks to the rapid advances in technology and research. But it can be a daunting space for newcomers. There are some common challenges data scientists face when transitioning into computer vision, including:\n",
    "\n",
    "1-How do we clean image datasets? Images come in different shapes and sizes\n",
    "2-The ever-present problem of acquiring data. Should we collect more images before building our computer vision model?\n",
    "3-Is learning deep learning compulsory for building computer vision models? Can we not use machine learning techniques?\n",
    "4-Can we build a computer vsiion model on our own machine? Not everyone has access to GPUs and TPUs!"
   ]
  },
  {
   "cell_type": "markdown",
   "metadata": {},
   "source": [
    "Table of Contents\n",
    "1-What is Computer Vision?\n",
    "2-Why use OpenCV for Computer Vision Tasks?\n",
    "3-Reading, Writing and Displaying Images\n",
    "4-Changing Color Spaces\n",
    "5-Resizing Images\n",
    "6-Image Rotation\n",
    "7-Image Translation\n",
    "8-Simple Image Thresholding\n",
    "9-Adaptive Thresholding\n",
    "10-Image Segmentation (Watershed Algorithm)\n",
    "11-Bitwise Operations\n",
    "12-Edge Detection\n",
    "13-Image Filtering\n",
    "14-Image Contours\n",
    "15-Scale Invariant Feature Transform (SIFT)\n",
    "16-Speeded-Up Robust Features (SURF)\n",
    "17-Feature Matching\n",
    "18-Face Detection"
   ]
  },
  {
   "cell_type": "markdown",
   "metadata": {},
   "source": [
    "Reading, Writing and Displaying Images\n"
   ]
  },
  {
   "cell_type": "markdown",
   "metadata": {},
   "source": [
    "Now, let’s see how to import an image into our machine using OpenCV. Download the image from here.\n",
    "\n"
   ]
  }
 ],
 "metadata": {
  "kernelspec": {
   "display_name": "Python 3",
   "language": "python",
   "name": "python3"
  },
  "language_info": {
   "codemirror_mode": {
    "name": "ipython",
    "version": 3
   },
   "file_extension": ".py",
   "mimetype": "text/x-python",
   "name": "python",
   "nbconvert_exporter": "python",
   "pygments_lexer": "ipython3",
   "version": "3.7.3"
  }
 },
 "nbformat": 4,
 "nbformat_minor": 2
}
